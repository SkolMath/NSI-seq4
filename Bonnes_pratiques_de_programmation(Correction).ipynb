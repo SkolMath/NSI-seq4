{
 "cells": [
  {
   "cell_type": "markdown",
   "metadata": {
    "colab_type": "text",
    "id": "XbkX2LZNzQzc"
   },
   "source": [
    "# Spécification , mise au point et complexité \n",
    "\n",
    "\n",
    "Notions Introduites : \n",
    "\n",
    "    1) Spécification\n",
    "    2) Programmation défensive\n",
    "    3) Tests et mise au point \n",
    "    4) Terminaison  : variant de boucle\n",
    "    5) Correction : Invariant de boucle\n",
    "    6) Complexité\n",
    "    7) Exercices\n",
    "    \n",
    "Comment gagner en précision lors de l'écriture d'un programme ou d'un algorithme ?\n",
    "Plusieurs axes de travail peuvent permettre de répondre à cette question.\n",
    "\n",
    "La <b>spécification</b> permet de documenter les programmes et automatiser certains tests.\n",
    "\n",
    "La <b>programmation défensive</b> a pour objectif d'anticiper toutes les sources d'erreur dans la conception même du programme.\n",
    "\n",
    "Concevoir des tests suffisamment variés et même automatisés pour repérer les éventuelles erreurs de programmation.\n",
    "\n",
    "La <b>correction</b> permet d'un point de vue théorique de savoir si le programme fait bien ce à quoi on s'attend (en particulier dans le cas de boucles)\n",
    "\n",
    "La <b>terminaison</b> a pour objectif de déterminer si le programme va bien s'arrêter . \n",
    "\n",
    "Enfin l'étude de la <b>complexité</b> permet de donner un ordre d'idée du nombre d'opérations nécessaires pour la réalisation du programme.\n",
    "\n"
   ]
  },
  {
   "cell_type": "markdown",
   "metadata": {
    "colab_type": "text",
    "id": "ikv0PrjpzQzf"
   },
   "source": [
    "## 1) Spécifications et commentaires.\n",
    "\n",
    "###  Spécifications\n",
    "Considérons le programme Python suitant  :\n",
    "\n"
   ]
  },
  {
   "cell_type": "code",
   "execution_count": 20,
   "metadata": {
    "colab": {
     "base_uri": "https://localhost:8080/",
     "height": 34
    },
    "colab_type": "code",
    "executionInfo": {
     "elapsed": 1261,
     "status": "ok",
     "timestamp": 1579186372108,
     "user": {
      "displayName": "laurent morel",
      "photoUrl": "https://lh3.googleusercontent.com/a-/AAuE7mAnbmU5HQMSpn7uH2CO3ZPkjRx8KU5ZIQ_qP65djg=s64",
      "userId": "12372814104665642536"
     },
     "user_tz": -60
    },
    "id": "Wc-jxNNszQzg",
    "outputId": "a1f89722-3cc2-440f-f98d-9e083bc02995"
   },
   "outputs": [
    {
     "data": {
      "text/plain": [
       "0"
      ]
     },
     "execution_count": 20,
     "metadata": {},
     "output_type": "execute_result"
    }
   ],
   "source": [
    "def indice_maximum_liste(L) :\n",
    "    m=0\n",
    "    for i in range(len(L)):\n",
    "        if L[i]>L[m] :\n",
    "            m=i\n",
    "    return m\n",
    "\n",
    "indice_maximum_liste([])"
   ]
  },
  {
   "cell_type": "markdown",
   "metadata": {
    "colab_type": "text",
    "id": "YgZK_p84zQzj"
   },
   "source": [
    "Il s'agit de savoir si ce programme est valide pour toutes les sortes de liste .\n",
    "\n",
    "A faire : Tester le programme pour des listes qui ne donneront pas le résultat attendu ."
   ]
  },
  {
   "cell_type": "code",
   "execution_count": 21,
   "metadata": {
    "colab": {},
    "colab_type": "code",
    "id": "YHyRooi3zQzk",
    "outputId": "6b2f3de1-0014-4545-f0ba-1867de41b5c2"
   },
   "outputs": [
    {
     "ename": "TypeError",
     "evalue": "'>' not supported between instances of 'str' and 'int'",
     "output_type": "error",
     "traceback": [
      "\u001b[1;31m---------------------------------------------------------------------------\u001b[0m",
      "\u001b[1;31mTypeError\u001b[0m                                 Traceback (most recent call last)",
      "\u001b[1;32m<ipython-input-21-062b85e48406>\u001b[0m in \u001b[0;36m<module>\u001b[1;34m\u001b[0m\n\u001b[0;32m      2\u001b[0m \u001b[0mL\u001b[0m\u001b[1;33m=\u001b[0m\u001b[1;33m[\u001b[0m\u001b[1;33m]\u001b[0m\u001b[1;33m\u001b[0m\u001b[1;33m\u001b[0m\u001b[0m\n\u001b[0;32m      3\u001b[0m \u001b[0mL2\u001b[0m\u001b[1;33m=\u001b[0m\u001b[1;33m[\u001b[0m\u001b[1;36m3\u001b[0m\u001b[1;33m,\u001b[0m\u001b[1;34m'a'\u001b[0m\u001b[1;33m]\u001b[0m\u001b[1;33m\u001b[0m\u001b[1;33m\u001b[0m\u001b[0m\n\u001b[1;32m----> 4\u001b[1;33m \u001b[0mindice_maximum_liste\u001b[0m\u001b[1;33m(\u001b[0m\u001b[0mL2\u001b[0m\u001b[1;33m)\u001b[0m\u001b[1;33m\u001b[0m\u001b[1;33m\u001b[0m\u001b[0m\n\u001b[0m",
      "\u001b[1;32m<ipython-input-20-f022398823ff>\u001b[0m in \u001b[0;36mindice_maximum_liste\u001b[1;34m(L)\u001b[0m\n\u001b[0;32m      2\u001b[0m     \u001b[0mm\u001b[0m\u001b[1;33m=\u001b[0m\u001b[1;36m0\u001b[0m\u001b[1;33m\u001b[0m\u001b[1;33m\u001b[0m\u001b[0m\n\u001b[0;32m      3\u001b[0m     \u001b[1;32mfor\u001b[0m \u001b[0mi\u001b[0m \u001b[1;32min\u001b[0m \u001b[0mrange\u001b[0m\u001b[1;33m(\u001b[0m\u001b[0mlen\u001b[0m\u001b[1;33m(\u001b[0m\u001b[0mL\u001b[0m\u001b[1;33m)\u001b[0m\u001b[1;33m)\u001b[0m\u001b[1;33m:\u001b[0m\u001b[1;33m\u001b[0m\u001b[1;33m\u001b[0m\u001b[0m\n\u001b[1;32m----> 4\u001b[1;33m         \u001b[1;32mif\u001b[0m \u001b[0mL\u001b[0m\u001b[1;33m[\u001b[0m\u001b[0mi\u001b[0m\u001b[1;33m]\u001b[0m\u001b[1;33m>\u001b[0m\u001b[0mL\u001b[0m\u001b[1;33m[\u001b[0m\u001b[0mm\u001b[0m\u001b[1;33m]\u001b[0m \u001b[1;33m:\u001b[0m\u001b[1;33m\u001b[0m\u001b[1;33m\u001b[0m\u001b[0m\n\u001b[0m\u001b[0;32m      5\u001b[0m             \u001b[0mm\u001b[0m\u001b[1;33m=\u001b[0m\u001b[0mi\u001b[0m\u001b[1;33m\u001b[0m\u001b[1;33m\u001b[0m\u001b[0m\n\u001b[0;32m      6\u001b[0m     \u001b[1;32mreturn\u001b[0m \u001b[0mm\u001b[0m\u001b[1;33m\u001b[0m\u001b[1;33m\u001b[0m\u001b[0m\n",
      "\u001b[1;31mTypeError\u001b[0m: '>' not supported between instances of 'str' and 'int'"
     ]
    }
   ],
   "source": [
    "# réponse : \n",
    "L=[]\n",
    "L2=[3,'a']\n",
    "indice_maximum_liste(L2)"
   ]
  },
  {
   "cell_type": "markdown",
   "metadata": {
    "colab_type": "text",
    "id": "IafQORSIzQzn"
   },
   "source": [
    "Afin d'éviter ce genre de désagrément, la première solution est de commenter ou de spécifier la fonction :\n",
    "\n",
    "Solution 1 : Commentaires \n",
    "\n",
    "A faire : reprenez ce programme en ajoutant des commentaires précisant le domaine d'application de la liste :\n"
   ]
  },
  {
   "cell_type": "code",
   "execution_count": 0,
   "metadata": {
    "colab": {},
    "colab_type": "code",
    "id": "EFGhStuWzQzn"
   },
   "outputs": [],
   "source": [
    "# réponse : \n",
    "\n",
    "# fonction qui prend une liste non vide d'entiers \n",
    "def indice_maximum_liste(L) :\n",
    "    m=0\n",
    "    for i in range(len(L)):\n",
    "        if L[i]>L[m] :\n",
    "            m=i\n",
    "    return m"
   ]
  },
  {
   "cell_type": "markdown",
   "metadata": {
    "colab_type": "text",
    "id": "5l4m_TgwzQzq"
   },
   "source": [
    "Le commentaire apporté permettra à l'utilisateur du programme de connaître le domaine d'application de cette fonction.\n",
    "Par contre, si la fonction est importée depuis un autre programme, l'utilisateur n'aura pas accès à ce commentaire . Il faut donc trouver une autre méthode pour transmettre ces informations.\n",
    "\n",
    "Il est possible sous Python d'ajouter ces informations sous la forme de doctring . Elles seront alors disponibles par la commande **help** de Python .\n",
    "Les docstring sont placés au début de la fonction et peut contenir plusieurs lignes. La commande help prend en variable le nom de la fonction:  `help(ma_fonction)`\n",
    "\n",
    "Dans les docstring, on indiquera: \n",
    "- Les postconditions : ce que doit renvoyer la fonction\n",
    "- Les préconditions : ce que la fonction prendra en entrée .\n",
    "\n",
    "\n",
    "**A faire** : Ajouter les docstring et tester la fonction help sur la fonction maximum_liste\n",
    "\n",
    "\n",
    "\n"
   ]
  },
  {
   "cell_type": "code",
   "execution_count": 6,
   "metadata": {
    "colab": {
     "base_uri": "https://localhost:8080/",
     "height": 118
    },
    "colab_type": "code",
    "executionInfo": {
     "elapsed": 843,
     "status": "ok",
     "timestamp": 1579187208109,
     "user": {
      "displayName": "laurent morel",
      "photoUrl": "https://lh3.googleusercontent.com/a-/AAuE7mAnbmU5HQMSpn7uH2CO3ZPkjRx8KU5ZIQ_qP65djg=s64",
      "userId": "12372814104665642536"
     },
     "user_tz": -60
    },
    "id": "GiTRyPwWzQzq",
    "outputId": "e37853cd-783e-407b-bd3f-98f62749c485"
   },
   "outputs": [
    {
     "name": "stdout",
     "output_type": "stream",
     "text": [
      "Help on function indice_maximum_liste in module __main__:\n",
      "\n",
      "indice_maximum_liste(L)\n",
      "    Postconditions : Renvoie l'indice du maximum du tableau\n",
      "    Précondition : La liste L est une  liste non vide d'entiers\n",
      "\n"
     ]
    }
   ],
   "source": [
    "# réponse : \n",
    "\n",
    "def indice_maximum_liste(L) :\n",
    "    \"\"\"Postconditions : Renvoie l'indice du maximum du tableau\n",
    "    Précondition : La liste L est une liste non vide d'entiers \"\"\"\n",
    "    m=0\n",
    "    for i in range(len(L)):\n",
    "        if L[i]>L[m] :\n",
    "            m=i\n",
    "    return m\n",
    "help(indice_maximum_liste)\n"
   ]
  },
  {
   "cell_type": "markdown",
   "metadata": {
    "colab_type": "text",
    "id": "l9FaD4AFzQzs"
   },
   "source": [
    "Comme vous le voyez, les informations sont accessibles par la commande help, mais rien n'enpêche le programmeur qui utilise cette fonction d'exécuter cette fonction avec une liste vide .\n",
    "\n",
    "### Le bon usage des commentaires \n",
    "\n",
    "Afin de rendre compréhensible le programme par un autre utilisateur ou soi-même, il est conseillé d'ajouter des commentaire au cours du programme. Il ne faut toutefois pas surchager le programme : \n",
    "\n",
    "Exemple : \n",
    "\n",
    "`x=x+1 # incrémenter` : ici le commentaire est superflux . \n",
    "\n",
    "On préferera choisir un nom de variable plus parlant  : \n",
    "\n",
    "`compteur_indice =compteur_indice +1`\n",
    "\n",
    "De manière générale, les programmeurs ont coutume de dire qu' \"un bon programme se suffit à lui-même\".\n",
    "\n",
    "Il reste cependant des situations où les commentaire sont les bienvenus car ils expliquent quelque chose qui ne se déduit pas immédiatement de la lecture du code. En voici un exemple : \n",
    "\n",
    "n = 25 # le nombre de nombre premiers plus petit que 100"
   ]
  },
  {
   "cell_type": "markdown",
   "metadata": {
    "colab_type": "text",
    "id": "YKEo_qkwzQzt"
   },
   "source": [
    "## 2) Programmation défensive\n",
    "\n",
    "Malgré toute la bonne volonté du programmeur qui a pu prendre soin de spécifier les fonctions développées, l'utilisateur, qui ne les consulte pas, pourra aboutir à des erreurs.\n",
    "Afin d'éviter les erreurs , il existe plusieurs méthodes : \n",
    "\n",
    "### a) Fonction exit\n",
    "\n",
    "A l'aide de la fonction exit de la librairie system , on peut stopper le programme au moment souhaité.\n",
    "\n",
    "**A faire**  : Compléter la fonction indice_maximum_liste afin qu'elle s'arrête lorsque l'utilisateur lance la fonction avec une liste vide. Vous pouvez consulter la documentation suivante : https://docs.python.org/2/library/sys.html ."
   ]
  },
  {
   "cell_type": "code",
   "execution_count": 7,
   "metadata": {
    "colab": {
     "base_uri": "https://localhost:8080/",
     "height": 165
    },
    "colab_type": "code",
    "executionInfo": {
     "elapsed": 1175,
     "status": "error",
     "timestamp": 1579188002604,
     "user": {
      "displayName": "laurent morel",
      "photoUrl": "https://lh3.googleusercontent.com/a-/AAuE7mAnbmU5HQMSpn7uH2CO3ZPkjRx8KU5ZIQ_qP65djg=s64",
      "userId": "12372814104665642536"
     },
     "user_tz": -60
    },
    "id": "5URDTqoYzQzt",
    "outputId": "d1f4f78a-c9bc-45c1-a89e-2e38f2f85711"
   },
   "outputs": [
    {
     "ename": "SystemExit",
     "evalue": " La liste ne doit pas être vide",
     "output_type": "error",
     "traceback": [
      "An exception has occurred, use %tb to see the full traceback.\n",
      "\u001b[1;31mSystemExit\u001b[0m\u001b[1;31m:\u001b[0m  La liste ne doit pas être vide\n"
     ]
    },
    {
     "name": "stderr",
     "output_type": "stream",
     "text": [
      "C:\\Users\\dewim\\Anaconda3\\lib\\site-packages\\IPython\\core\\interactiveshell.py:3334: UserWarning: To exit: use 'exit', 'quit', or Ctrl-D.\n",
      "  warn(\"To exit: use 'exit', 'quit', or Ctrl-D.\", stacklevel=1)\n"
     ]
    }
   ],
   "source": [
    "# réponse : \n",
    "\n",
    "\n",
    "import sys   \n",
    "def indice_maximum_liste(L) :\n",
    "    \"\"\"Postconditions : Renvoie l'indice du maximum du tableau\n",
    "    Précondition : La liste L est une  liste non vide d'entiers \"\"\"\n",
    "    if len(L)==0:\n",
    "        sys.exit(\" La liste ne doit pas être vide\")\n",
    "   \n",
    "    for i in range(len(L)):\n",
    "        if L[i]>L[m] :\n",
    "            m=i\n",
    "    return m\n",
    "\n",
    "indice_maximum_liste([])"
   ]
  },
  {
   "cell_type": "markdown",
   "metadata": {
    "colab_type": "text",
    "id": "LE_2YO2MzQzv"
   },
   "source": [
    "Le problème de la fonction exit est qu'elle arrête l'ensemble du programme python . Il peut alors être intéressant d'ajouter le nom de la fonction suivi du commentaire en argument de la fonction exit.\n",
    "\n",
    "Il existe une fonction dédiée pour cela : La fonction assert .\n",
    "\n",
    "### b) Fonction assert\n",
    "\n",
    "La fonction assert de Python combine le test d'une condition et l'interruption du programme avec un message d'erreur au cas où la condition n'est pas vérifiée.\n",
    "\n",
    "assert condition , \"messsage en cas d'erreur\"\n",
    "\n",
    "**A faire**  : Modifier la fonction maximum_liste afin qu'elle s'arrêtre losque l'utilisateur lance la fonction avec une liste vide."
   ]
  },
  {
   "cell_type": "code",
   "execution_count": 22,
   "metadata": {
    "colab": {},
    "colab_type": "code",
    "id": "-8kefv2rzQzw",
    "outputId": "67639908-f361-42e2-cdce-be17b7cb2cd4"
   },
   "outputs": [
    {
     "ename": "AssertionError",
     "evalue": " La liste ne doit pas être vide",
     "output_type": "error",
     "traceback": [
      "\u001b[1;31m---------------------------------------------------------------------------\u001b[0m",
      "\u001b[1;31mAssertionError\u001b[0m                            Traceback (most recent call last)",
      "\u001b[1;32m<ipython-input-22-d38541810719>\u001b[0m in \u001b[0;36m<module>\u001b[1;34m\u001b[0m\n\u001b[0;32m     11\u001b[0m     \u001b[1;32mreturn\u001b[0m \u001b[0mm\u001b[0m\u001b[1;33m\u001b[0m\u001b[1;33m\u001b[0m\u001b[0m\n\u001b[0;32m     12\u001b[0m \u001b[1;33m\u001b[0m\u001b[0m\n\u001b[1;32m---> 13\u001b[1;33m \u001b[0mindice_maximum_liste\u001b[0m\u001b[1;33m(\u001b[0m\u001b[1;33m[\u001b[0m\u001b[1;33m]\u001b[0m\u001b[1;33m)\u001b[0m\u001b[1;33m\u001b[0m\u001b[1;33m\u001b[0m\u001b[0m\n\u001b[0m",
      "\u001b[1;32m<ipython-input-22-d38541810719>\u001b[0m in \u001b[0;36mindice_maximum_liste\u001b[1;34m(L)\u001b[0m\n\u001b[0;32m      3\u001b[0m     \"\"\"Postconditions : Renvoie l'indice du maximum du tableau\n\u001b[0;32m      4\u001b[0m     Précondition : La liste L est une  liste non vide d'entiers \"\"\"\n\u001b[1;32m----> 5\u001b[1;33m     \u001b[1;32massert\u001b[0m \u001b[0mlen\u001b[0m\u001b[1;33m(\u001b[0m\u001b[0mL\u001b[0m\u001b[1;33m)\u001b[0m\u001b[1;33m>\u001b[0m\u001b[1;36m0\u001b[0m \u001b[1;33m,\u001b[0m \u001b[1;34m\" La liste ne doit pas être vide\"\u001b[0m\u001b[1;33m\u001b[0m\u001b[1;33m\u001b[0m\u001b[0m\n\u001b[0m\u001b[0;32m      6\u001b[0m     \u001b[0mm\u001b[0m\u001b[1;33m=\u001b[0m\u001b[1;36m0\u001b[0m\u001b[1;33m\u001b[0m\u001b[1;33m\u001b[0m\u001b[0m\n\u001b[0;32m      7\u001b[0m \u001b[1;33m\u001b[0m\u001b[0m\n",
      "\u001b[1;31mAssertionError\u001b[0m:  La liste ne doit pas être vide"
     ]
    }
   ],
   "source": [
    "# Réponse : \n",
    "def indice_maximum_liste(L) :\n",
    "    \"\"\"Postconditions : Renvoie l'indice du maximum du tableau\n",
    "    Précondition : La liste L est une  liste non vide d'entiers \"\"\"\n",
    "    assert len(L)>0 , \" La liste ne doit pas être vide\"\n",
    "    m=0\n",
    "   \n",
    "    for i in range(len(L)):\n",
    "        if L[i]>L[m] :\n",
    "            m=i\n",
    "    return m\n",
    "\n",
    "indice_maximum_liste([])"
   ]
  },
  {
   "cell_type": "markdown",
   "metadata": {
    "colab_type": "text",
    "id": "pWbqWiJwzQzy"
   },
   "source": [
    "Comme vous pouvez le constater en testant la fonction avec une liste vide, nous obtenons des informations plus précises sur l'erreur commise.\n",
    "\n",
    "**A faire**  : Modifier la fonction indice_maximum_liste afin qu'elle s'arrête lorsque l'utilisateur lance la fonction avec une liste contenant des éléments qui ne sont pas des entiers."
   ]
  },
  {
   "cell_type": "code",
   "execution_count": 0,
   "metadata": {
    "colab": {
     "base_uri": "https://localhost:8080/",
     "height": 34
    },
    "colab_type": "code",
    "executionInfo": {
     "elapsed": 511,
     "status": "ok",
     "timestamp": 1579189417824,
     "user": {
      "displayName": "laurent morel",
      "photoUrl": "https://lh3.googleusercontent.com/a-/AAuE7mAnbmU5HQMSpn7uH2CO3ZPkjRx8KU5ZIQ_qP65djg=s64",
      "userId": "12372814104665642536"
     },
     "user_tz": -60
    },
    "id": "fI80a1PyzQz0",
    "outputId": "2da9be59-a6d5-4db4-da54-1ef31d3854e3"
   },
   "outputs": [
    {
     "data": {
      "text/plain": [
       "False"
      ]
     },
     "execution_count": 7,
     "metadata": {
      "tags": []
     },
     "output_type": "execute_result"
    }
   ],
   "source": [
    "# Réponse : \n",
    "\n",
    "def est_une_liste_d_entiers(L):\n",
    "    res=True\n",
    "    for elt in L :\n",
    "        if type(elt)!=int :\n",
    "            res=False\n",
    "    return res\n",
    "\n",
    "\n",
    "def indice_maximum_liste(L) :\n",
    "    \"\"\"Postconditions : Renvoie l'indice du maximum du tableau\n",
    "    Précondition : La liste L est une  liste non vide d'entiers \"\"\"\n",
    "    \n",
    "    assert len(L)!=0, \" La liste ne doit pas être vide\"\n",
    "    assert est_une_liste_d_entiers(L), \" La liste n'est pas une liste d'entiers\"\n",
    "    m=0\n",
    "   \n",
    "    for i in range(len(L)):\n",
    "        if L[i]>L[m] :\n",
    "            m=i\n",
    "    return m\n",
    "est_une_liste_d_entiers([3,\"R\",5])\n"
   ]
  },
  {
   "cell_type": "markdown",
   "metadata": {
    "colab_type": "text",
    "id": "0iY3pmDBzQz2"
   },
   "source": [
    "## 3) Test et mise au point\n",
    "\n",
    "Même si on a correctement spécifié et documenté une fonction, il reste possible de faire une erreur en écrivant son code. Pour détecter ces éventuelles erreurs, on peut utiliser la fonction sur quelques cas concrets et vérifier qu'elle produit effectivement les résultats attendus. \n",
    "\n",
    "Par exemple, on peut tester que la fonction indice_maximum_liste renvoie bien 1 pour la liste [2,3,1]. \n",
    "\n",
    "\n",
    "\n",
    "**A faire**  : Modifier la fonction indice_maximum_liste en ajoutant plusieurs assert contenant les différents tests comme par exemple : \n",
    "\n",
    "assert indice_maximum_liste([1,3,8,5])==2\n",
    "\n",
    "Si l'un de ces tests échoue, il faut rectifier le programme. Une fois l'erreur corrigée, il convient de relancer tous les tests, y compris ceux qui avaient déjà été effectués avec succès. En effet, en corrigeant une erreur, on peut en introduire une autre."
   ]
  },
  {
   "cell_type": "code",
   "execution_count": 2,
   "metadata": {
    "colab": {},
    "colab_type": "code",
    "id": "LC_4ZCdPzQz3"
   },
   "outputs": [],
   "source": [
    "# Réponse : \n",
    "\n",
    "def est_homogene(L,Type):\n",
    "    homogene=True\n",
    "    for elt in L :\n",
    "        if type(elt)!=eval(Type) :\n",
    "            homogene=False\n",
    "    return homogene\n",
    "\n",
    "\n",
    "def indice_maximum_liste(L) :\n",
    "    \"\"\"Postconditions : Renvoie l'indice du maximum du tableau\n",
    "    Précondition : La liste L est une  liste non vide d'entiers \"\"\"\n",
    "    #Tests de préconditions \n",
    "    assert len(L), \" La liste ne doit pas être vide\"\n",
    "    assert est_homogene(L,\"int\"), \" La liste n'est pas une liste d'entiers\"\n",
    "    m=0\n",
    "   \n",
    "    for i in range(len(L)):\n",
    "        if L[i]>L[m] :\n",
    "            m=i\n",
    "    return m\n",
    "\n",
    "# Tests de postconditions\n",
    "assert indice_maximum_liste([1,3,8,5])==2 , \"indice_maximum_liste([1,3,8,5])différent de 2\"\n",
    "assert indice_maximum_liste([1,3,8,20])==3 , \"indice_maximum_liste([1,3,8,20])différent de 3\"\n",
    "assert indice_maximum_liste([10,3,8,5])==0 , \"indice_maximum_liste([10,3,8,5])différent de 0\"\n",
    "assert indice_maximum_liste([1])==0 , \"indice_maximum_liste([1]) différent de 0\"\n",
    "assert indice_maximum_liste([-8,3,-2,0])==1 , \"indice_maximum_liste([-8,3,-2,0]) différent de 1 \"\n",
    "\n"
   ]
  },
  {
   "cell_type": "markdown",
   "metadata": {
    "colab_type": "text",
    "id": "buL3Nvw3zQz5"
   },
   "source": [
    "**Remarque 1** : Pour compléter les tests, on peut concevoir un programme qui effectue des tests aléatoires. Ce type de programme nommé **Oracle** , est très intéressant mais pose le problème de l'exactitude de cet oracle.\n",
    "\n",
    "**Remarque 2** :  Il est souvent pertinent de concevoir le jeu de tests en même temps que les spécifications du programme. Ce travail permet souvent de gagner en précision lors de l'écriture du programme. En entreprise, dans les équipes de développement, ce sont dans la mesure du possible, des personnes différentes qui conçoivent le programme et le jeux de tests.\n",
    "\n",
    "**Remarque 3**  : Lorsqu'un programme ne fonctionne pas, il peut être stratégique d'ajouter des print qui permettent de préciser l'état des variables au moment de l'erreur.  D'autres outils permettent de repérer l'erreur comme l'explorateur de variable de spyder ou python tutor http://pythontutor.com/visualize.html#mode=edit .\n",
    "\n",
    "**A faire**  :\n",
    "\n",
    "On considère la fonction est-croissant(L) qui permet de déterminer si une liste est triée dans l'ordre croissant.\n",
    "\n",
    "Définir les préconditions et les postconditions de cette fonction,\n",
    "Définir un jeu de test pour cette fonction.\n",
    "Corriger le programme de la fonction ci-dessous :"
   ]
  },
  {
   "cell_type": "code",
   "execution_count": 3,
   "metadata": {
    "colab": {
     "base_uri": "https://localhost:8080/",
     "height": 35
    },
    "colab_type": "code",
    "executionInfo": {
     "elapsed": 610,
     "status": "ok",
     "timestamp": 1579611819071,
     "user": {
      "displayName": "laurent morel",
      "photoUrl": "https://lh3.googleusercontent.com/a-/AAuE7mAnbmU5HQMSpn7uH2CO3ZPkjRx8KU5ZIQ_qP65djg=s64",
      "userId": "12372814104665642536"
     },
     "user_tz": -60
    },
    "id": "Gx2QQmOzzQz6",
    "outputId": "3a116e18-befa-4c9e-bd89-1387a30dcdeb"
   },
   "outputs": [
    {
     "data": {
      "text/plain": [
       "True"
      ]
     },
     "execution_count": 3,
     "metadata": {},
     "output_type": "execute_result"
    }
   ],
   "source": [
    "def est_croissant(L):\n",
    "\n",
    "    '''\n",
    "    Précondition : Liste non nulle d'au moins deux élémets  nombres entiers\n",
    "    Postconditions  : retourne True si la liste est classée dans l'ordre croissant et False sinon\n",
    "    '''\n",
    "    assert est_homogene(L,\"int\") ,\" Attention : L n'est pas une liste d'entiers\"\n",
    "    assert L!=[] , \" Attention , la liste est vide\"\n",
    "    \n",
    "    i=len(L)-2\n",
    "    res=True\n",
    "    while i>=0 :\n",
    "        if L[i] >= L[i+1] :\n",
    "            res=False\n",
    "        i=i-1\n",
    "    return res\n",
    "\n",
    "# Jeux de tests\n",
    "assert est_croissant([2,4,5,7])==True , \" Erreur\"\n",
    "assert est_croissant([2,4,15,7])==False , \" Erreur\"\n",
    "\n",
    "\n",
    "# Exerc de la fonction\n",
    "L=[1,3,5,20,40]       \n",
    "est_croissant(L)   "
   ]
  },
  {
   "cell_type": "markdown",
   "metadata": {
    "colab_type": "text",
    "id": "3Le8l5F2zQz8"
   },
   "source": [
    "## 4) Terminaison d'un algorithme  : variant de boucle \n",
    "\n",
    "On s’intéresse ici à la terminaison des boucles. Il n’y a pas de problème avec les boucles **for** dont le nombre d’itérations est connu à l’avance. Le problème apparait avec les boucles while pour lesquelles on ne sait pas a priori si la condition de terminaison sera vérifiée.\n",
    "\n",
    "Exemple : \n"
   ]
  },
  {
   "cell_type": "code",
   "execution_count": 4,
   "metadata": {
    "colab": {},
    "colab_type": "code",
    "id": "3txolqm8zQz8"
   },
   "outputs": [],
   "source": [
    "def f(n):\n",
    "#n un entier\n",
    "\n",
    "    if not(type(n)==int and n>=0):\n",
    "        return None\n",
    "\n",
    "    compteur=2\n",
    "    produit=1\n",
    "    \n",
    "    while n-compteur>=0:\n",
    "        produit=produit*compteur\n",
    "        compteur+=1\n",
    "    \n",
    "    return produit\n"
   ]
  },
  {
   "cell_type": "code",
   "execution_count": 5,
   "metadata": {},
   "outputs": [],
   "source": [
    "f(-4)"
   ]
  },
  {
   "cell_type": "markdown",
   "metadata": {
    "colab_type": "text",
    "id": "EPPS5Ou8zQz-"
   },
   "source": [
    "\n",
    "\n",
    "\n",
    "1.  Le programme précédent se termine-t-il toujours, quelque soit l’entrée ?\n",
    "\n",
    "Oui,\n",
    "\n",
    "si on n’a pas un entier positif, on retourne none. \n",
    "\n",
    "si l’entier est inférieur à 1 on ne rentre pas dans la boucle while et s’il est plus grand que 2, on considère  **i=n−compteur**.\n",
    "\n",
    "C’est un entier qui décroit strictement à chaque itération.\n",
    "\n",
    "2.  Quel est son but ?\n",
    "\n",
    "Son but est de calculer $n!=1\\times2\\times3....\\times n$\n",
    "\n",
    "------\n",
    "**Définition : Terminaison  de  boucle** \n",
    "\n",
    "Un  moyen  usuel  de  démontrer  la  terminaison  d’une  boucle  est de trouver une quantité, fonction des paramètres de la boucle, qui est un **entier positif et qui décroit strictement à chaque itération**. Cette quantité est appelée **variant de boucle**.\n",
    "\n",
    "\n",
    "------\n",
    "\n",
    "**A faire :** Fonction puissance de 2\n",
    "\n",
    "    1) A l'aide d'une boucle tant que,  créer un programme python qui pour tout entier positif ou nul, retourne 2 à la puissance n.\n",
    "    2) Décrire les préconditions et les postconditions \n",
    "    3) Démontrer la terminaison de votre algorithme en mettant en évidence le variant de boucle.\n",
    "\n",
    "\n"
   ]
  },
  {
   "cell_type": "code",
   "execution_count": 6,
   "metadata": {
    "colab": {},
    "colab_type": "code",
    "id": "Dldxk1w5zQz_",
    "outputId": "c917d43a-bb10-4f47-dd28-94e88cbf291a"
   },
   "outputs": [
    {
     "data": {
      "text/plain": [
       "1"
      ]
     },
     "execution_count": 6,
     "metadata": {},
     "output_type": "execute_result"
    }
   ],
   "source": [
    "# réponse 1-2\n",
    "def deux_puissance(n):\n",
    "    '''\n",
    "    Préconditions : n est un entier positif ou nul\n",
    "    Prosconditions : Fonction qui retourne 2 à la puissance de n\n",
    "    \n",
    "    '''\n",
    "    assert type(n)==int , \" Attention, n doit être un entier positif ou nul\"\n",
    "    p=1\n",
    "    i=n \n",
    "    while i>0:\n",
    "        p=p*2\n",
    "        i=i-1\n",
    "    return p\n",
    "deux_puissance(0)"
   ]
  },
  {
   "cell_type": "code",
   "execution_count": 7,
   "metadata": {
    "colab": {
     "base_uri": "https://localhost:8080/",
     "height": 35
    },
    "colab_type": "code",
    "executionInfo": {
     "elapsed": 912,
     "status": "ok",
     "timestamp": 1579615506536,
     "user": {
      "displayName": "laurent morel",
      "photoUrl": "https://lh3.googleusercontent.com/a-/AAuE7mAnbmU5HQMSpn7uH2CO3ZPkjRx8KU5ZIQ_qP65djg=s64",
      "userId": "12372814104665642536"
     },
     "user_tz": -60
    },
    "id": "DB_KS4VVaaR_",
    "outputId": "b335e6df-6c61-46c7-cd06-0ba9734cb53d"
   },
   "outputs": [
    {
     "data": {
      "text/plain": [
       "8"
      ]
     },
     "execution_count": 7,
     "metadata": {},
     "output_type": "execute_result"
    }
   ],
   "source": [
    "# réponse 1-2\n",
    "def deux_puissance(n):\n",
    "    '''\n",
    "    Préconditions : n est un entier positif ou nul\n",
    "    Prosconditions : Fonction qui retourne 2 à la puissance de n\n",
    "    \n",
    "    '''\n",
    "    if n==0 :\n",
    "      return 1\n",
    "    \n",
    "    p=2\n",
    "    i=1\n",
    "    while i!=n :\n",
    "      p=p*2\n",
    "      i=i+1\n",
    "    return p\n",
    "\n",
    "deux_puissance(3) "
   ]
  },
  {
   "cell_type": "markdown",
   "metadata": {
    "colab_type": "text",
    "id": "U5Ga6c2WzQ0B"
   },
   "source": [
    "**Réponse 3** :\n",
    "Dans ce programme le variant de boucle est i\n",
    "\n",
    "Au départ i vaut n qui est un entier positif ou nul \n",
    "\n",
    "D'autre part, à chaque itération, on retranche 1 à i donc i est décroissant  et i restera un entier.\n",
    "\n",
    "i est donc un variant de boucle pour ce programme, ce qui prouve sa terminaison."
   ]
  },
  {
   "cell_type": "markdown",
   "metadata": {
    "colab_type": "text",
    "id": "Ks0aPnQKzQ0C"
   },
   "source": [
    "## 5) Correction partielle d’un algorithme : invariant de boucle\n",
    "\n",
    "Une fois que l’on a démontré qu’un algorithme se termine effectivement, il serait agréable de savoir si celui-ci produit le résultat attendu. Par exemple une fonction qui se termine tout le temps pourrait être"
   ]
  },
  {
   "cell_type": "code",
   "execution_count": 8,
   "metadata": {
    "colab": {},
    "colab_type": "code",
    "id": "gq87UEKvzQ0C"
   },
   "outputs": [],
   "source": [
    "def factorielle(n):\n",
    "    return 1 # retourne n! , mais ne marche que pour 0 et 1"
   ]
  },
  {
   "cell_type": "markdown",
   "metadata": {
    "colab_type": "text",
    "id": "0id1RmdkzQ0E"
   },
   "source": [
    "Cette fonction se termine tout le temps mais ... n’est pas très intéressante. Les instructions simples ne posent pas de problème. Les problèmes arrivent en général lorsque l’on a des boucles. Il faut alors se persuader de la logique sous-jacente du programme. Les variables du programme sont-elles correctement initialisées avant la boucle ? Le nombre de tours de boucle est-il le bon et, le cas échéant, l'indice de boucle est-il correct ? Les valeurs obtenues au final sont-elle les bonnes ? Toutes ces questions peuvent être abordées avec la notion d'invariant de boucle. \n",
    "\n",
    "------\n",
    "**Définition : Invariant de boucle**\n",
    "\n",
    "Pour démontrer qu’un algorithme produit le résultat attendu, on utilise un invariant de boucle, c’est-à-dire une propriété qui :\n",
    "- est vérifiée avant d’entrer dans la boucle\n",
    "- si cette propriété est vérifiée avant une itération, elle est vérifiée après celle-ci\n",
    "- lorsqu’elle  est vérifiée  en  sortie de  boucle, elle permet (combinée  avec la condition  de sortie de boucle) d’en déduire que le programme produit le résultat attendu\n",
    "------\n",
    "\n",
    "**Exemple 1 :**\n",
    "À titre d'exemple, nous allons démontrer à l'aide d'un invariant de boucle la correction du programme suivant (qui calcule la somme des puissances k-ièmes des p premiers entiers naturels) :"
   ]
  },
  {
   "cell_type": "code",
   "execution_count": 9,
   "metadata": {
    "colab": {},
    "colab_type": "code",
    "id": "GgGejisIzQ0F"
   },
   "outputs": [],
   "source": [
    "def S(p, k): # k !=0\n",
    "    valeur_somme=0\n",
    "    for i in range(1,p+1) :\n",
    "        valeur_somme=valeur_somme+i**k \n",
    "    return valeur_somme"
   ]
  },
  {
   "cell_type": "code",
   "execution_count": 10,
   "metadata": {
    "colab": {},
    "colab_type": "code",
    "id": "RK-hT8kSzQ0H",
    "outputId": "6ae07b4b-d8cd-451c-9915-4622156f50db"
   },
   "outputs": [
    {
     "data": {
      "text/plain": [
       "55"
      ]
     },
     "execution_count": 10,
     "metadata": {},
     "output_type": "execute_result"
    }
   ],
   "source": [
    "S(5, 2)"
   ]
  },
  {
   "cell_type": "markdown",
   "metadata": {
    "colab_type": "text",
    "id": "JBg5GaMzzQ0J"
   },
   "source": [
    "**Preuve de correction partielle**\n",
    "\n",
    "Nous étudions la propriété suivante (qui est notre invariant de boucle) : après n itérations de cette boucle, on a :\n",
    "$$ p_{n} \\: : \\: valeur\\_somme(n) \\: = \\:\\sum_{i=0}^{i=n} i^{k} $$\n",
    "\n",
    "1.La propriété $p_0$ est bien vérifiée avant l'entrée de la boucle : valeur_somme = 0 par initialisation et on a bien\n",
    "\n",
    "$$ \\sum_{i=0}^{i=0} i^{k} \\: = \\: 0 $$\n",
    "\n",
    "2.Supposons que la propriété $p_n$ soit vérifiée pour un certain n. On a alors avant la (n+1)-ème itération de cette boucle :\n",
    "\n",
    "$$ p_{n} \\: : \\: valeur\\_somme(n) \\: = \\:\\sum_{i=0}^{i=n} i^{k} $$\n",
    "\n",
    "\n",
    "Après la (n+1)-ème itération de cette boucle on a :\n",
    "\n",
    "$$ valeur\\_somme(n+1) \\: = valeur\\_somme(n) \\: + \\: (n+1)^{k} \\: = \\:\\sum_{i=0}^{i=n} i^{k} \\: + \\: (n+1)^{k}\\: = \\sum_{i=0}^{i=n+1} i^{k} \\:$$\n",
    "\n",
    "donc $p_{n+1}$ est bien vérifiée.\n",
    "\n",
    "Moyennant le principe du raisonnement par récurrrence la propriété $p_n$ est bien vérifiée pour tout entier *n* naturel donc le calcul est exact ce qui achève la preuve de correction partielle."
   ]
  },
  {
   "cell_type": "markdown",
   "metadata": {
    "colab_type": "text",
    "id": "bwM6vnk7zQ0K"
   },
   "source": [
    "**Exemple 2 :**\n",
    "\n",
    "On considère la fonction suivante qui calcule le quotient et le reste de la division euclidienne de a par b par la méthode des soustractions successives. Cette méthode, peu efficace, a été présentée par Euclide dans ses ouvrage ELEMENTS."
   ]
  },
  {
   "cell_type": "code",
   "execution_count": 11,
   "metadata": {
    "colab": {},
    "colab_type": "code",
    "id": "ZA06T3F4zQ0L"
   },
   "outputs": [],
   "source": [
    "def division_euclidienne(a,b):\n",
    "    q=0\n",
    "    r=a\n",
    "    while r>=b:\n",
    "        q=q+1\n",
    "        r=r-b\n",
    "    return q,r\n",
    "\n"
   ]
  },
  {
   "cell_type": "markdown",
   "metadata": {
    "colab_type": "text",
    "id": "EZ6Crcz4zQ0O"
   },
   "source": [
    "On suppose que $a \\ge 0$ et $b>0$ et on cherche à démontrer que cette fonction renvoie bien une paire d'entiers  q et r tels que : \n",
    "\n",
    "$$a=q \\times b+r$$\n",
    "$$0 \\le r<b$$\n",
    "ce qui est la définition de la division euclidienne.\n",
    "\n",
    "**A faire :** Effectuer la preuve de correction partielle  "
   ]
  },
  {
   "cell_type": "markdown",
   "metadata": {
    "colab_type": "text",
    "id": "bZllhyLlzQ0R"
   },
   "source": [
    "**Réponse : Preuve de correction partielle**\n",
    "\n",
    "Nous étudions la propriété suivante (qui est notre invariant de boucle) : après n itérations de cette boucle, on a :\n",
    "$$ r \\ge 0 $$\n",
    "$$ a= q\\times b+r$$\n",
    "\n",
    "\n",
    "1. Initialisation : \n",
    "Avant le début de la boucle, $q \\times b+r= r=a$ et $r=a\\ge 0$ .\n",
    "\n",
    "L'invariant de boucle est donc vérifié avant le début de la boucle\n",
    "\n",
    "2. Hérédité : \n",
    "Supposons que l'invariant de boucle est vérifié à la fin d'une itération et  montrons qu'il est aussi vérifié à l'issue de l'itération suivante.\n",
    "\n",
    "On suppose que \n",
    "$$ r \\ge 0 $$\n",
    "$$ a= q\\times b+r$$\n",
    "\n",
    "On sait que  r>=b  \n",
    "q'=q+1 et r'=r-b\n",
    "\n",
    "D'une part,  r-b>=0  ainsi r>=0\n",
    "D'autre part, (q+1)*b +r-b = q*b+r +b-b = q*b+r = a\n",
    "\n",
    "L'invariant de boucle est toujours vrai à l'issue de la boucle.\n",
    "\n",
    "3. Conclusion \n",
    "\n",
    "A chaque itération,  l'invariant de boucle est vérifié et le programme se termine lorsque r< b , ce qui correspond à l'objectif du programme."
   ]
  },
  {
   "cell_type": "markdown",
   "metadata": {
    "colab_type": "text",
    "id": "QDTkU_BxzQ0S"
   },
   "source": [
    "## 6) Complexité \n",
    "\n",
    "Nous avons maintenant un algorithme qui produit le résultat demandé et qui se termine.... un jour. Mais si un algorithme se termine dans 10000 ans, il est correct mais peu intéressant. On va maintenant s'intéresser à la durée d'exécution du programme ou plus précisément à **\"comment la durée d'execution augmente lorsque la taille des données augmente\"** .\n",
    "\n",
    "Plusieurs problèmes se posent. En fait, le temps d'execution dépend de beaucoup de choses :\n",
    "- Le langage dans lequel l'algorithme est implémenté.\n",
    "- Le processeur et en particulier la fréquence du processeur ainsi que la mémoire cache.\n",
    "- Si d'autres programmes s'exécutent en même temps\n",
    "\n",
    "On va donc essayer de caractériser l'efficacité de l'algorithme indépendamment de son implémentation en comptant le nombre d'opérations élémentaires nécessaires à son exécution. On évitera donc d'utiliser certaines fonctions de python qui peuvent utiliser un nombre important d'opération (tri de liste par exemple) .\n",
    "\n",
    "Les opérations de base sur lesquelles nous nous appuyerons sont les suivantes : \n",
    "- addition, soustraction, multiplication ...\n",
    "- affectation, accès à un élément d'un tableau...\n",
    "- tests simples ( <;>;==...)\n",
    "\n",
    "\n",
    "\n",
    "\n",
    "Ces opérations de base ont normalement un faible temps d'execution (quelques cycles d'horloge du processeur). Nous allons faire comme si elles avaient le même temps et ce sera notre unité de base. On s'intéresse ensuite au comportement asymptotique lorsque la taille des données traitées devient grande. Si l'on note $n$ la taille des données et que le nombre d'opérations de base exécutées par l'algorithme est $3n^2+2n+20$ , alors : \n",
    "- seul le terme du plus grand ordre $3n^2$ est réellement significatif et traduit le temps que mettra l'algorithme à s'exécuter lorsque les données sont très importantes.\n",
    "- Le préfacteur $3$ devant $n^2$ n'est pas très intéressant. Lorsque n tend vers l'infini , entre $3$ et $n^2$, c'est $n^2$ qui domine.\n",
    "- On se limite donc à dire que l'algorithme a un temps d'execution qui croit de la même façon que $n^2$ et on parle de complexité en temps.\n",
    "\n",
    "**Définition :** \n",
    "Pour comparer des algorithmes, il n'est pas nécessaire d'utiliser la fonction T, mais seulement l'ordre de grandeur asymptotique, noté O (\"grand O\").\n",
    "\n",
    "T(n) est en O(f(n)) s’il existe un seuil $n_0$ à partir duquel la fonction T est toujours dominée par la fonction f, à une constante multiplicative fixée c près .\n",
    "\n",
    "\n",
    "\n",
    "|   Complexité  ( O)                    | Type de complexité     |\n",
    "| ---- | ---- |\n",
    "|  $O(1)$    |   constante   |\n",
    "|  $O(log(n))$     | logarithmique    |\n",
    "|  $O(n)$     | linéaire     |\n",
    "|  $O(nlog(n))$     |quasi-linéaire   |\n",
    "|   $O(n^2)$    | quadratique  |\n",
    "|   $O(n^3)$    | cubique  |\n",
    "|   $O(2^n)$    | exponentielle  |\n",
    "|   $O(n!)$    | factorielle  |\n",
    "\n",
    "Ces différentes complexités seront abordées au cours de l'année.\n",
    "\n",
    "\n",
    "**Exemples :**\n",
    "\n",
    "- $T1(n)=7=O(1)$  \n",
    "- $T2(n)=12n+5=O(n)$\n",
    "- $T3(n)=4n^2+2n+6=O(n^2)$\n",
    "- $T4(n)=0.4*2^n+1000000000 \\times{n^{100}}=O(2^n)$\n",
    "\n",
    "\n",
    "\n",
    "\n",
    "\n",
    "En toute rigueur, on peut en effet distinguer deux formes de complexité en temps :\n",
    "\n",
    "    la complexité dans le meilleur des cas : c'est la situation la plus favorable,\n",
    "    par exemple : recherche d'un élément situé à la première position d'une liste\n",
    "    la complexité dans le pire des cas : c'est la situation la plus défavorable,\n",
    "    par exemple : recherche d'un élément dans une liste alors qu'il n'y figure pas\n",
    "\n",
    "On calculera le plus souvent la complexité dans le pire des cas, car elle est la plus pertinente. Il vaut mieux en effet toujours envisager le pire.\n",
    "\n",
    "\n",
    "\n",
    "\n"
   ]
  },
  {
   "cell_type": "markdown",
   "metadata": {
    "colab_type": "text",
    "id": "pP6udoLbzQ0S"
   },
   "source": [
    "**Application :**\n",
    "Etude de la complexité de la fonction suivante "
   ]
  },
  {
   "cell_type": "code",
   "execution_count": 12,
   "metadata": {
    "colab": {},
    "colab_type": "code",
    "id": "uEV5O7iSzQ0T"
   },
   "outputs": [],
   "source": [
    "def division_euclidienne(a,b):\n",
    "    q=0\n",
    "    r=a\n",
    "    while r>=b:\n",
    "        q=q+1\n",
    "        r=r-b\n",
    "    return q,r\n"
   ]
  },
  {
   "cell_type": "markdown",
   "metadata": {
    "colab_type": "text",
    "id": "zwsVKHAkzQ0X"
   },
   "source": [
    "**Réponse :**\n",
    "Le programme effectue le plus grand nombre d'opérations lorsque b=1.\n",
    "Ici n correspond au nombre a.\n",
    "\n",
    "On effectue donc la division de n par 1.\n",
    "\n",
    "\n",
    "\n",
    "\n",
    "Début du programme :\n",
    "affectation : 1\n",
    "affectation : 1\n",
    "\n",
    "Itérations : au plus n\n",
    "\n",
    "- comparaison : 1\n",
    "- addition + affectation : 2\n",
    "- soustraction + affectation : 2\n",
    "   \n",
    "$T(n) = 2+ (n)*(5) = 2 + 5n = 5n+2 = O(n)$\n",
    "\n",
    "\n",
    "Illustration : \n",
    "La fonction timeit de python permet de donner une estimation du temps nécessaire à l'exécution d'un programme.\n",
    "\n"
   ]
  },
  {
   "cell_type": "markdown",
   "metadata": {
    "colab_type": "text",
    "id": "_d_aaK7SzQ0Y"
   },
   "source": [
    "**Expérimentation de la complexité**\n",
    "\n",
    "Afin d'expérimenter la complexité en temps, on peut utiliser le module timeit qui mesure le temps nécessaire à l'exécution d'un programme. Afin de gagner en précision, il lance le programme plusieurs fois et effectue une moyenne des temps d'execution.\n",
    "\n",
    "Méthode 1 :\n",
    "\n",
    "%timeit   factorielle(100)\n",
    "\n",
    "Méthode 2 : \n",
    "import timeit\n",
    "timeit.timeit('output = factorielle(10)', \"from __main__ import factorielle\",number=2)\n",
    "\n",
    "**A faire :**\n",
    "\n",
    "Utiliser la fonction Timeit pour créer un graphique permettant de visualiser le temps d'execution en fonction de n pour le calcul de n!.\n",
    "On partira d'une liste de valeur de n  : N=[3,10,20,100,200,300] et on construira ensuite la liste des temps associés avant d'effectuer l'affichage."
   ]
  },
  {
   "cell_type": "code",
   "execution_count": 13,
   "metadata": {
    "colab": {
     "base_uri": "https://localhost:8080/",
     "height": 34
    },
    "colab_type": "code",
    "executionInfo": {
     "elapsed": 4626,
     "status": "ok",
     "timestamp": 1579795528744,
     "user": {
      "displayName": "laurent morel",
      "photoUrl": "https://lh3.googleusercontent.com/a-/AAuE7mAnbmU5HQMSpn7uH2CO3ZPkjRx8KU5ZIQ_qP65djg=s64",
      "userId": "12372814104665642536"
     },
     "user_tz": -60
    },
    "id": "Pzl55d0EJgFS",
    "outputId": "1a01b09b-3737-4474-cb27-f6d4ca5dc97b"
   },
   "outputs": [
    {
     "name": "stdout",
     "output_type": "stream",
     "text": [
      "12.9 µs ± 556 ns per loop (mean ± std. dev. of 7 runs, 100000 loops each)\n"
     ]
    }
   ],
   "source": [
    "%timeit  division_euclidienne(100,1)\n"
   ]
  },
  {
   "cell_type": "code",
   "execution_count": 14,
   "metadata": {
    "colab": {},
    "colab_type": "code",
    "id": "Li9ooOXPzQ0Y",
    "outputId": "dce36e0a-711e-43c4-99b7-7cdfb48e5cea"
   },
   "outputs": [
    {
     "name": "stdout",
     "output_type": "stream",
     "text": [
      "[0.7230150999999978, 1.6090333000000214, 2.761835899999994, 12.843905399999983, 26.069153200000017, 41.15857470000003]\n"
     ]
    }
   ],
   "source": [
    "# réponse \n",
    "import timeit\n",
    "\n",
    "N=[3,10,20,100,200,300]\n",
    "Times=[]\n",
    "for n in N:\n",
    "    \n",
    "    t=timeit.timeit('output = division_euclidienne('+str(n)+',1)', \"from __main__ import division_euclidienne\", number=1000000)\n",
    "    Times.append(t)\n",
    "print(Times)\n",
    "\n"
   ]
  },
  {
   "cell_type": "code",
   "execution_count": 15,
   "metadata": {
    "colab": {
     "base_uri": "https://localhost:8080/",
     "height": 402
    },
    "colab_type": "code",
    "executionInfo": {
     "elapsed": 2861,
     "status": "error",
     "timestamp": 1579765580031,
     "user": {
      "displayName": "laurent morel",
      "photoUrl": "https://lh3.googleusercontent.com/a-/AAuE7mAnbmU5HQMSpn7uH2CO3ZPkjRx8KU5ZIQ_qP65djg=s64",
      "userId": "12372814104665642536"
     },
     "user_tz": -60
    },
    "id": "NKh80pRoXWCq",
    "outputId": "83cd643b-4a94-475b-cd69-77e87dda2be9"
   },
   "outputs": [
    {
     "name": "stdout",
     "output_type": "stream",
     "text": [
      "13.4 µs ± 612 ns per loop (mean ± std. dev. of 7 runs, 100000 loops each)\n"
     ]
    }
   ],
   "source": [
    "%timeit division_euclidienne(100,1)"
   ]
  },
  {
   "cell_type": "code",
   "execution_count": 16,
   "metadata": {
    "colab": {},
    "colab_type": "code",
    "id": "ViaacNmbzQ0b"
   },
   "outputs": [],
   "source": [
    "# Import de la librairie graphique\n",
    "import matplotlib.pyplot as plt\n",
    "def affichage(X,Y,LabelX,LabelY,Titre):\n",
    "    figure = plt.figure()\n",
    "    plt.ylabel(LabelY)\n",
    "    plt.xlabel(LabelX)\n",
    "    plt.plot(X,Y,'grey') # affiche les traits entre les points\n",
    "    plt.title(Titre)"
   ]
  },
  {
   "cell_type": "code",
   "execution_count": 17,
   "metadata": {
    "colab": {},
    "colab_type": "code",
    "id": "bbwHaNUNzQ0d",
    "outputId": "36a386e7-ff80-461a-a5a2-17aa4b03cc34"
   },
   "outputs": [
    {
     "data": {
      "image/png": "[encoded data removed]",
      "text/plain": [
       "<Figure size 432x288 with 1 Axes>"
      ]
     },
     "metadata": {
      "needs_background": "light"
     },
     "output_type": "display_data"
    }
   ],
   "source": [
    "affichage(N,Times,'N', 'time', 'Complexité n')"
   ]
  },
  {
   "cell_type": "markdown",
   "metadata": {
    "colab_type": "text",
    "id": "2sTEoLAvzQ0e"
   },
   "source": [
    "## 7) Exercices \n"
   ]
  },
  {
   "cell_type": "markdown",
   "metadata": {
    "colab_type": "text",
    "id": "fMVdYXbIzQ0f"
   },
   "source": [
    "### Exercice 1\n",
    "\n",
    "1. Construire la fonction somme des éléments d'une liste \n",
    "2. Préciser la chaine de spécification, les commentaires et les assert nécessaires\n",
    "3. Démontrer la terminaison \n",
    "4. Démontrer la correction partielle \n",
    "5. Calculer la complexité de cette fonction."
   ]
  },
  {
   "cell_type": "code",
   "execution_count": 18,
   "metadata": {
    "colab": {},
    "colab_type": "code",
    "id": "7X6mMuKUzQ0f"
   },
   "outputs": [],
   "source": [
    "# 1-2  Programme \n",
    "\n",
    "def somme(L):\n",
    "    '''\n",
    "    precondition : Les éléments de la liste non vide dont tous les éléments sont de type int ou float\n",
    "    postcondition : Retourne la somme de tous les éléments de la liste \n",
    "    '''\n",
    "    assert type(L)==list, \" L doit être une liste\"\n",
    "    assert L!=[], \"La liste ne doit pas être vide\"\n",
    "    assert est_homogene(L,\"int\") or est_homogene(L,\"float\") ,\"La liste doit être une liste d'entiers ou de réels\"\n",
    "    \n",
    "    \n",
    "    res=0\n",
    "    for i in range(len(L)):\n",
    "        res=res+L[i]\n",
    "    return res\n",
    "\n",
    "# tests de vérifications\n",
    "assert somme([2,3])==5\n",
    "assert somme([3.5,3.5])==7.0\n",
    "assert somme([4])==4"
   ]
  },
  {
   "cell_type": "markdown",
   "metadata": {
    "colab_type": "text",
    "id": "n6Dp3wnGzQ0h"
   },
   "source": [
    "##### 3) Terminaison\n",
    " \n",
    " On prend pour variant de boucle : variant= len(L)-i \n",
    " $$0 \\le i \\le len(L)-1$$\n",
    " $$0 \\ge -i \\ge -(len(L)-1)$$\n",
    " $$len(L) \\ge len(L)-i \\ge len(L)-(len(L)-1)$$\n",
    " $$1 \\le variant \\le len(L)$$ \n",
    " \n",
    " \n",
    "d'autre part, len(L)-i  est un entier décroissant puisque len(L) est un entier et i est un entier croissant.\n",
    "\n",
    "Conclusion : len(L)-i  est un entier positif et décroissant . Il s'agit donc d'un variant de boucle , ce qui prove la terminaison du programme.\n",
    "\n",
    "##### 4) Correction partielle\n",
    "\n",
    "Nous étudions la propriété suivante (qui est notre invariant de boucle) : après n itérations de cette boucle, on a :\n",
    "$$ p_{n} \\: : \\: res\\: = \\:\\sum_{i=0}^{i=n} L[i] $$\n",
    "\n",
    "1.La propriété $p_0$ est bien vérifiée avant l'entrée de la boucle : res=0 par initialisation et on a bien\n",
    "\n",
    "\n",
    "2.Supposons que la propriété $p_n$ soit vérifiée pour un certain n. On a alors avant la (n+1)-ème itération de cette boucle :\n",
    "\n",
    "$$ p_{n} \\: : \\: valeur\\_somme(n) \\: = \\:\\sum_{i=0}^{i=n} L[i] $$\n",
    "\n",
    "\n",
    "Après la (n+1)-ème itération de cette boucle on a :\n",
    "\n",
    "$$ res = res \\: + \\: L[n+1] \\: = \\:\\sum_{i=0}^{i=n} L[i] + \\: L[n+1] =\\:\\sum_{i=0}^{i=n+1} L[i] \\: $$\n",
    "donc $p_{n+1}$ est bien vérifiée.\n",
    "\n",
    "Moyennant le principe du raisonnement par récurrrence la propriété $p_n$ est bien vérifiée pour tout entier *n* naturel donc le calcul est exact ce qui achève la preuve de correction partielle.\n",
    "\n",
    "\n",
    "##### 5) Complexité pour une liste de taille n \n",
    "\n",
    "Début du programme : \n",
    "\n",
    "    affectation : 1\n",
    "    Calcule de len(L) : \n",
    "        Affectation 1\n",
    "        addition + affectation : n \n",
    "Pour n itération : \n",
    "\n",
    "    addition + affectation : 2\n",
    "    \n",
    "    \n",
    "$T(n)= 1+n+n(2) = 3n+1 => O(n) $ \n",
    "Le coût de ce programme est donc linéaire \n",
    "\n",
    "\n",
    "    "
   ]
  },
  {
   "cell_type": "markdown",
   "metadata": {
    "colab_type": "text",
    "id": "VfYGWid9zQ0h"
   },
   "source": [
    "### Exercice 2\n",
    "\n",
    "1. Construire la fonction qui teste l'appartenance d'une valeur à une liste\n",
    "2. Préciser la chaine de spécification, les commentaires et les assert nécessaires\n",
    "3. Démontrer la terminaison \n",
    "4. Démontrer la correction partielle \n",
    "5. Calculer la complexité de cette fonction.\n"
   ]
  },
  {
   "cell_type": "code",
   "execution_count": 19,
   "metadata": {},
   "outputs": [],
   "source": [
    "# 1-2  Programme \n",
    "\n",
    "def appartient(elt,L):\n",
    "    '''\n",
    "    precondition : L est une liste non vide et elt une variable de type quelconque.\n",
    "    postcondition : Retourne un Booleen ( True le elt est un élément de la liste)\n",
    "    '''\n",
    "    assert type(L)==list, \" L doit être une liste\"\n",
    "    assert L!=[], \"La liste ne doit pas être vide\"\n",
    "    \n",
    "    res=False\n",
    "    for i in range(len(L)):\n",
    "      if L[i] == elt : \n",
    "        res=True\n",
    "    return res\n",
    "\n",
    "# tests de vérifications\n",
    "assert appartient(3,[2,1,3])==True\n",
    "assert appartient(3,[2,1,5])==False\n",
    "assert appartient(3,[3])==True"
   ]
  },
  {
   "cell_type": "markdown",
   "metadata": {},
   "source": [
    "##### 3) Terminaison\n",
    "\n",
    "Candidat de variant de boucle : v=len(L)-i\n",
    "\n",
    "i est un entier strictement croissant de 0 à len(L)-1. Ainsi v est un entier positif ou nul strictement décrroissant.\n",
    "\n",
    "v est donc un variant de boucle ce qui prouve la terminaison du programme.\n",
    "\n",
    "##### 4) Correction\n",
    "\n",
    "Proposition d'invariant de boucle :<br>\n",
    "à l'issue de l'itération de rang i , res = True<br>\n",
    "si elt apparait dans les i+1 premiers éléments. res = False sinon\n",
    "\n",
    "Démonstration :\n",
    "\n",
    "Initialisation\n",
    "\n",
    "Avant le début de la boucle, res = False, ce qui est correct puisque elt ne peut appartenir à une liste vide.\n",
    "\n",
    "Hérédité :\n",
    "\n",
    "Supposons que la propriété est vraie au rang i. <br>\n",
    "Si res = False et que L[i+1]=elt alors à l'issue de l'itération i+1, res= True<br> \n",
    "Si res = False et que L[i+1]!=elt , alors à l'issue de l'itération i+1, res = False <br>\n",
    "Si res= True, alors à l'issue de l'itération i+1, res=True\n",
    "\n",
    "Conclusion A chaque itération, la propriété est vérifiée.\n",
    "\n",
    "La propriété est donc un invariant de boucle, ce qui prouve la correction partielle du programme.\n",
    "\n",
    "##### 5) Complexité\n",
    "\n",
    "Début du programme:\n",
    "\n",
    "    2 comparaisons et 1 affectation\n",
    "\n",
    "Itérations ( n)\n",
    "\n",
    "    1 comparaison et 1 affectation\n",
    "\n",
    "T(n) = 3+2n => O(n)\n",
    "\n",
    "Le programme est donc de complexité linéaire.\n"
   ]
  },
  {
   "cell_type": "markdown",
   "metadata": {
    "colab_type": "text",
    "id": "EY6WSpLxzQ0i"
   },
   "source": [
    "### Exercice 3\n",
    "\n",
    "1. Construire la fonction factorielle de n ( n!) \n",
    "2. Préciser la chaine de spécification, les commentaires et les assert nécessaires\n",
    "3. Démontrer la terminaison \n",
    "4. Démontrer la correction partielle \n",
    "5. Caluler la complexité de cette fonction."
   ]
  },
  {
   "cell_type": "code",
   "execution_count": 0,
   "metadata": {
    "colab": {},
    "colab_type": "code",
    "id": "-GlvYHfFzQ0i"
   },
   "outputs": [],
   "source": []
  }
 ],
 "metadata": {
  "colab": {
   "name": "Bonnes_pratiques_de_programmation (Correction).ipynb",
   "provenance": []
  },
  "kernelspec": {
   "display_name": "Python 3",
   "language": "python",
   "name": "python3"
  },
  "language_info": {
   "codemirror_mode": {
    "name": "ipython",
    "version": 3
   },
   "file_extension": ".py",
   "mimetype": "text/x-python",
   "name": "python",
   "nbconvert_exporter": "python",
   "pygments_lexer": "ipython3",
   "version": "3.7.4"
  }
 },
 "nbformat": 4,
 "nbformat_minor": 1
}
