{
 "cells": [
  {
   "cell_type": "markdown",
   "metadata": {},
   "source": [
    "# Algorithmes de tri"
   ]
  },
  {
   "cell_type": "markdown",
   "metadata": {},
   "source": [
    "### Constitution de tableaux test"
   ]
  },
  {
   "cell_type": "code",
   "execution_count": 1,
   "metadata": {},
   "outputs": [
    {
     "data": {
      "text/plain": [
       "[10, 9, 8, 7, 6, 5, 4, 3, 2, 1]"
      ]
     },
     "execution_count": 1,
     "metadata": {},
     "output_type": "execute_result"
    }
   ],
   "source": [
    "# constitution d'un tableau test avec élément par ordre décroissant\n",
    "tableau= [k for k in range(10,0,-1)]\n",
    "tableau\n"
   ]
  },
  {
   "cell_type": "code",
   "execution_count": 2,
   "metadata": {},
   "outputs": [
    {
     "data": {
      "text/plain": [
       "[2, 6, 1, 10, 7, 4, 3, 5, 9, 8]"
      ]
     },
     "execution_count": 2,
     "metadata": {},
     "output_type": "execute_result"
    }
   ],
   "source": [
    "# constitution d'un tableau test désordonné\n",
    "import random\n",
    "random.shuffle(tableau)\n",
    "tableau\n"
   ]
  },
  {
   "cell_type": "code",
   "execution_count": 3,
   "metadata": {},
   "outputs": [],
   "source": [
    "# 3 jeux de données\n",
    "tab1=[k for k in range(0,100)]\n",
    "random.shuffle(tab1)\n",
    "\n",
    "tab2=[k for k in range(0,400)]\n",
    "random.shuffle(tab2)\n",
    "\n",
    "tab3=[k for k in range(0,1000)]\n",
    "random.shuffle(tab3)"
   ]
  },
  {
   "cell_type": "markdown",
   "metadata": {},
   "source": [
    "### 1- tri par insertion"
   ]
  },
  {
   "cell_type": "code",
   "execution_count": 4,
   "metadata": {},
   "outputs": [],
   "source": [
    "def tri_insertion(tab):\n",
    "    \"\"\" trie le tableau tab par ordre croissant \"\"\"\n",
    "    \n",
    "    for i in range(1, len(tab)):\n",
    "        \n",
    "        # j est la position de l'élémenet à insérer\n",
    "        j=i \n",
    "        \n",
    "        while j> 0 and tab[j] < tab[j-1]:\n",
    "            tab[j],tab[j-1] = tab[j-1],tab[j]\n",
    "            j-=1"
   ]
  },
  {
   "cell_type": "code",
   "execution_count": 5,
   "metadata": {},
   "outputs": [
    {
     "data": {
      "text/plain": [
       "[2, 4, 4, 5, 5, 8, 9, 12]"
      ]
     },
     "execution_count": 5,
     "metadata": {},
     "output_type": "execute_result"
    }
   ],
   "source": [
    "# tableau test avec éléments dans le désordre\n",
    "tab0 = [2,5,4,9,5,12,4,8]\n",
    "tri_insertion(tab0)\n",
    "tab0"
   ]
  },
  {
   "cell_type": "code",
   "execution_count": 6,
   "metadata": {},
   "outputs": [
    {
     "name": "stdout",
     "output_type": "stream",
     "text": [
      "18.9 µs ± 395 ns per loop (mean ± std. dev. of 7 runs, 100000 loops each)\n"
     ]
    }
   ],
   "source": [
    "# calculons le temps pour 100 éléments\n",
    "tab1_insert=tab1\n",
    "%timeit tri_insertion(tab1_insert)"
   ]
  },
  {
   "cell_type": "code",
   "execution_count": 7,
   "metadata": {},
   "outputs": [
    {
     "name": "stdout",
     "output_type": "stream",
     "text": [
      "80.6 µs ± 5.29 µs per loop (mean ± std. dev. of 7 runs, 10000 loops each)\n"
     ]
    }
   ],
   "source": [
    "# calculons le temps pour 400 éléments\n",
    "tab2_insert=tab2\n",
    "%timeit tri_insertion(tab2_insert)"
   ]
  },
  {
   "cell_type": "code",
   "execution_count": 8,
   "metadata": {},
   "outputs": [
    {
     "name": "stdout",
     "output_type": "stream",
     "text": [
      "208 µs ± 3.86 µs per loop (mean ± std. dev. of 7 runs, 10000 loops each)\n"
     ]
    }
   ],
   "source": [
    "# calculons le temps pour 1000 éléments\n",
    "tab3_insert=tab3\n",
    "%timeit tri_insertion(tab3_insert)"
   ]
  },
  {
   "cell_type": "markdown",
   "metadata": {},
   "source": [
    "### 2- tri par sélection"
   ]
  },
  {
   "cell_type": "code",
   "execution_count": 9,
   "metadata": {},
   "outputs": [],
   "source": [
    "def tri_selection(tab):\n",
    "    \"\"\" trie le tableau tab par ordre croissant \"\"\"\n",
    "    \n",
    "    for i in range(1, len(tab)):\n",
    "        # recherche de l'indice du minimum à la fin du tableau\n",
    "        indice_mini = i\n",
    "        for j in range(i+1, len(tab)):\n",
    "            if tab[j] < tab[indice_mini]:\n",
    "                indice_mini = j\n",
    "        \n",
    "        # echange les indices indice_mini et i\n",
    "        tab[indice_mini], tab[i] = tab[i], tab[indice_mini]\n",
    "        \n",
    "    "
   ]
  },
  {
   "cell_type": "code",
   "execution_count": 10,
   "metadata": {},
   "outputs": [
    {
     "data": {
      "text/plain": [
       "[2, 4, 4, 5, 5, 8, 9, 12]"
      ]
     },
     "execution_count": 10,
     "metadata": {},
     "output_type": "execute_result"
    }
   ],
   "source": [
    "# tableau test avec éléments dans le désordre\n",
    "tab0 = [2,5,4,9,5,12,4,8]\n",
    "tri_selection(tab0)\n",
    "tab0"
   ]
  },
  {
   "cell_type": "code",
   "execution_count": 11,
   "metadata": {},
   "outputs": [
    {
     "name": "stdout",
     "output_type": "stream",
     "text": [
      "502 µs ± 22.2 µs per loop (mean ± std. dev. of 7 runs, 1000 loops each)\n"
     ]
    }
   ],
   "source": [
    "# calculons le temps pour 100 éléments\n",
    "tab1_select=tab1\n",
    "%timeit tri_selection(tab1_select)"
   ]
  },
  {
   "cell_type": "code",
   "execution_count": 12,
   "metadata": {},
   "outputs": [
    {
     "name": "stdout",
     "output_type": "stream",
     "text": [
      "8.46 ms ± 127 µs per loop (mean ± std. dev. of 7 runs, 100 loops each)\n"
     ]
    }
   ],
   "source": [
    "# calculons le temps pour 400 éléments\n",
    "tab2_select=tab2\n",
    "%timeit tri_selection(tab2_select)"
   ]
  },
  {
   "cell_type": "code",
   "execution_count": 13,
   "metadata": {},
   "outputs": [
    {
     "name": "stdout",
     "output_type": "stream",
     "text": [
      "72.6 ms ± 15.2 ms per loop (mean ± std. dev. of 7 runs, 10 loops each)\n"
     ]
    }
   ],
   "source": [
    "# calculons le temps pour 1000 éléments\n",
    "tab3_select=tab3\n",
    "%timeit tri_selection(tab3_select)"
   ]
  },
  {
   "cell_type": "markdown",
   "metadata": {},
   "source": [
    "### tri récursif"
   ]
  },
  {
   "cell_type": "code",
   "execution_count": 37,
   "metadata": {},
   "outputs": [],
   "source": [
    "def tri(tab):\n",
    "    liste.append(min(tab))\n",
    "    tab.pop(tab.index(min(tab)))\n",
    "    if tab!=[]:\n",
    "        tri(tab)\n",
    "    else:\n",
    "        print(liste)    "
   ]
  },
  {
   "cell_type": "code",
   "execution_count": 39,
   "metadata": {},
   "outputs": [
    {
     "name": "stdout",
     "output_type": "stream",
     "text": [
      "[2, 4, 4, 5, 5, 8, 9, 12]\n"
     ]
    }
   ],
   "source": [
    "# tableau test avec éléments dans le désordre\n",
    "liste=[]\n",
    "tab0 = [2,5,4,9,5,12,4,8]\n",
    "tri(tab0)"
   ]
  }
 ],
 "metadata": {
  "kernelspec": {
   "display_name": "Python 3",
   "language": "python",
   "name": "python3"
  },
  "language_info": {
   "codemirror_mode": {
    "name": "ipython",
    "version": 3
   },
   "file_extension": ".py",
   "mimetype": "text/x-python",
   "name": "python",
   "nbconvert_exporter": "python",
   "pygments_lexer": "ipython3",
   "version": "3.7.4"
  }
 },
 "nbformat": 4,
 "nbformat_minor": 2
}
